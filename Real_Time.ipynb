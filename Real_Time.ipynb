{
 "cells": [
  {
   "cell_type": "code",
   "execution_count": null,
   "metadata": {},
   "outputs": [],
   "source": [
    "import cv2\n",
    "from ultralytics import YOLO\n",
    "\n",
    "# Load the YOLOv8 model\n",
    "model = YOLO('yolov8n.pt')  # Replace with your YOLOv8 model path\n",
    "\n",
    "# Set up the mobile IP camera stream (replace with your IP address)\n",
    "ip_camera_url = \"http://172.16.16.233:8080/video\"  # Replace with your mobile's IP address\n",
    "cap = cv2.VideoCapture(ip_camera_url)\n",
    "\n",
    "if not cap.isOpened():\n",
    "    print(\"Error: Unable to access the IP camera stream.\")\n",
    "    exit()\n",
    "\n",
    "while True:\n",
    "    ret, frame = cap.read()\n",
    "    if not ret:\n",
    "        print(\"Error: Unable to read from the stream.\")\n",
    "        break\n",
    "\n",
    "    # Perform inference\n",
    "    results = model.predict(frame, conf=0.5)  # Adjust confidence threshold as needed\n",
    "\n",
    "    # Draw the results on the frame\n",
    "    annotated_frame = results[0].plot()\n",
    "\n",
    "    # Display the frame using OpenCV (faster than Matplotlib)\n",
    "    cv2.imshow(\"YOLOv8 Real-Time Detection\", annotated_frame)\n",
    "\n",
    "    # Exit if 'q' is pressed\n",
    "    if cv2.waitKey(1) & 0xFF == ord('q'):\n",
    "        break\n",
    "\n",
    "# Release the resources\n",
    "cap.release()\n",
    "cv2.destroyAllWindows()\n"
   ]
  }
 ],
 "metadata": {
  "kernelspec": {
   "display_name": "temp",
   "language": "python",
   "name": "python3"
  },
  "language_info": {
   "codemirror_mode": {
    "name": "ipython",
    "version": 3
   },
   "file_extension": ".py",
   "mimetype": "text/x-python",
   "name": "python",
   "nbconvert_exporter": "python",
   "pygments_lexer": "ipython3",
   "version": "3.12.3"
  }
 },
 "nbformat": 4,
 "nbformat_minor": 2
}
